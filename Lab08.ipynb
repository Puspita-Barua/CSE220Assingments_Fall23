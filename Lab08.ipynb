{
  "cells": [
    {
      "cell_type": "code",
      "execution_count": null,
      "metadata": {
        "id": "D6vC520OPeTa"
      },
      "outputs": [],
      "source": [
        "class BTNode:\n",
        "  def __init__(self, elem):\n",
        "    self.elem = elem\n",
        "    self.right = None\n",
        "    self.left = None"
      ]
    },
    {
      "cell_type": "code",
      "execution_count": null,
      "metadata": {
        "id": "UDTKlm4-PfNM"
      },
      "outputs": [],
      "source": [
        "def inorder(root):\n",
        "  if root == None:\n",
        "    return\n",
        "\n",
        "  inorder(root.left)\n",
        "  print(root.elem, end = ' ')\n",
        "  inorder(root.right)"
      ]
    },
    {
      "cell_type": "code",
      "execution_count": null,
      "metadata": {
        "colab": {
          "base_uri": "https://localhost:8080/"
        },
        "id": "Rtc22SPzPgzM",
        "outputId": "1700cb66-19db-4175-b1d2-dfbaa68c9377"
      },
      "outputs": [
        {
          "output_type": "stream",
          "name": "stdout",
          "text": [
            "H D B E A I F J C G k "
          ]
        }
      ],
      "source": [
        "def tree_construction(arr, i = 1):\n",
        "  if i>=len(arr) or arr[i] == None:\n",
        "    return None\n",
        "  p = BTNode(arr[i])\n",
        "  p.left = tree_construction(arr, 2*i)\n",
        "  p.right = tree_construction(arr, 2*i+1)\n",
        "  return p\n",
        "\n",
        "\n",
        "root2 = tree_construction([None, 'A', 'B', 'C', 'D', 'E', 'F', 'G', 'H', None, None, None, 'I', 'J', None, 'k'])\n",
        "inorder(root2)"
      ]
    },
    {
      "cell_type": "markdown",
      "metadata": {
        "id": "S2nNCJNhPqGq"
      },
      "source": [
        "Task 1"
      ]
    },
    {
      "cell_type": "code",
      "execution_count": null,
      "metadata": {
        "id": "zbBHU3FoPieb",
        "colab": {
          "base_uri": "https://localhost:8080/"
        },
        "outputId": "be46ab2f-6a50-4236-9afa-ba0a3ca60396"
      },
      "outputs": [
        {
          "output_type": "stream",
          "name": "stdout",
          "text": [
            "Given Tree Inorder Traversal:  40 20 60 10 30 \n",
            "Mirrored Tree Inorder Traversal:  30 10 60 20 40 "
          ]
        }
      ],
      "source": [
        "def convert_mirror(root):\n",
        "  #pass\n",
        "  if root == None:\n",
        "    return\n",
        "  new_root = BTNode(root.elem)\n",
        "  new_root.left = convert_mirror(root.right)\n",
        "  new_root.right = convert_mirror(root.left)\n",
        "  return new_root\n",
        "\n",
        "\n",
        "#DRIVER CODE\n",
        "root = BTNode(10)\n",
        "n1 = BTNode(20)\n",
        "n2 = BTNode(30)\n",
        "n3 = BTNode(40)\n",
        "n4 = BTNode(60)\n",
        "\n",
        "root.left = n1\n",
        "root.right = n2\n",
        "\n",
        "n1.left = n3\n",
        "n1.right = n4\n",
        "\n",
        "print('Given Tree Inorder Traversal: ', end = ' ')\n",
        "inorder(root) #Given Tree Inorder Traversal:  40 20 60 10 30\n",
        "print()\n",
        "\n",
        "root2 = convert_mirror(root)\n",
        "print('Mirrored Tree Inorder Traversal: ', end = ' ')\n",
        "inorder(root2) #Mirrored Tree Inorder Traversal:  30 10 60 20 40"
      ]
    },
    {
      "cell_type": "markdown",
      "metadata": {
        "id": "c-TBf3m0PrtK"
      },
      "source": [
        "Task 2"
      ]
    },
    {
      "cell_type": "code",
      "execution_count": null,
      "metadata": {
        "id": "lsuxinlBPmji",
        "colab": {
          "base_uri": "https://localhost:8080/"
        },
        "outputId": "15a3d135-437a-4b06-c0b4-77a1a6598a2b"
      },
      "outputs": [
        {
          "output_type": "stream",
          "name": "stdout",
          "text": [
            "Given Tree Inorder Traversal:  3 9 -5 4 2 7 \n",
            "Level Wise Smallest Value:  {0: 4, 1: 2, 2: -5}\n"
          ]
        }
      ],
      "source": [
        "def smallest_level(root):\n",
        "  #pass\n",
        "  value = helperFunction(root)\n",
        "  return value\n",
        "\n",
        "def helperFunction(root, dict1 = {}, key = 0):\n",
        "  if root == None:\n",
        "    return\n",
        "  if key not in dict1:\n",
        "    dict1[key] = root.elem\n",
        "  else:\n",
        "    if dict1[key]>root.elem:\n",
        "      dict1[key] = root.elem\n",
        "  helperFunction(root.left, dict1, key + 1)\n",
        "  helperFunction(root.right, dict1, key + 1)\n",
        "  return dict1\n",
        "\n",
        "\n",
        "#DRIVER CODE\n",
        "root = tree_construction([None, 4,9,2,3,-5,None,7])\n",
        "print('Given Tree Inorder Traversal: ', end = ' ')\n",
        "inorder(root) #Given Tree Inorder Traversal:  3 9 5 4 2 7\n",
        "print()\n",
        "print('Level Wise Smallest Value: ', end = ' ')\n",
        "print(smallest_level(root)) #Level Wise Smallest Value:  {0: 4, 1: 2, 2: -5}"
      ]
    },
    {
      "cell_type": "markdown",
      "metadata": {
        "id": "7r3lH3aWPz2d"
      },
      "source": [
        "Task 3"
      ]
    },
    {
      "cell_type": "code",
      "execution_count": null,
      "metadata": {
        "id": "zFwP64v4Pu6d",
        "colab": {
          "base_uri": "https://localhost:8080/"
        },
        "outputId": "24500ba8-74c2-4959-b7f9-74dd01186a56"
      },
      "outputs": [
        {
          "output_type": "stream",
          "name": "stdout",
          "text": [
            "Given Tree Inorder Traversal:  4 8 10 12 14 20 22 \n",
            "Inorder predecessor of node 20: 14\n"
          ]
        }
      ],
      "source": [
        "def inorder_predecessor(root, x):\n",
        "  return maximum(x.left)\n",
        "\n",
        "def maximum(root):\n",
        "  if root.right == None:\n",
        "    return root\n",
        "  value = maximum(root.right)\n",
        "  return value\n",
        "\n",
        "#DRIVER CODE\n",
        "root = BTNode(20)\n",
        "n1 = BTNode(8)\n",
        "n2 = BTNode(22)\n",
        "n3 = BTNode(4)\n",
        "n4 = BTNode(12)\n",
        "n5 = BTNode(10)\n",
        "n6 = BTNode(14)\n",
        "\n",
        "root.left = n1\n",
        "root.right = n2\n",
        "\n",
        "n1.left = n3\n",
        "n1.right = n4\n",
        "\n",
        "n4.left = n5\n",
        "n4.right = n6\n",
        "\n",
        "print('Given Tree Inorder Traversal: ', end = ' ')\n",
        "inorder(root) #Given Tree Inorder Traversal:  4 8 10 12 14 20 22\n",
        "print()\n",
        "\n",
        "x = root\n",
        "print(f'Inorder predecessor of node {x.elem}: {inorder_predecessor(root, x).elem}') #Inorder predecessor of node 20: 14"
      ]
    },
    {
      "cell_type": "markdown",
      "metadata": {
        "id": "t3IGW4OaP8Vy"
      },
      "source": [
        "Task 4"
      ]
    },
    {
      "cell_type": "code",
      "execution_count": null,
      "metadata": {
        "id": "d1A-tR7hP2fI",
        "colab": {
          "base_uri": "https://localhost:8080/"
        },
        "outputId": "e1df84f6-c59e-4e6f-f3dd-ed26699bf3a1"
      },
      "outputs": [
        {
          "output_type": "stream",
          "name": "stdout",
          "text": [
            "LCA(6,12) = 10\n",
            "LCA(20,6) = 15\n",
            "LCA(18,22) = 20\n",
            "LCA(20,25) = 25\n",
            "LCA(10,12) = 10\n"
          ]
        }
      ],
      "source": [
        "def LCA(root, x, y):\n",
        "  #pass\n",
        "  value = root.elem\n",
        "  if root == None:\n",
        "    return\n",
        "  elif x<value and y<value:\n",
        "    return LCA(root.left,x,y)\n",
        "  elif x>value and y>value:\n",
        "    return LCA(root.right,x,y)\n",
        "  return root.elem\n",
        "\n",
        "#DRIVER CODE\n",
        "#Write by yourself from the given tree\n",
        "root = BTNode(15)\n",
        "n1 = BTNode(10)\n",
        "n2 = BTNode(25)\n",
        "n3 = BTNode(8)\n",
        "n4 = BTNode(12)\n",
        "n5 = BTNode(20)\n",
        "n6 = BTNode(30)\n",
        "n7 = BTNode(6)\n",
        "n8 = BTNode(9)\n",
        "n9 = BTNode(18)\n",
        "n10 = BTNode(22)\n",
        "\n",
        "#Making tree\n",
        "root.left = n1\n",
        "root.right = n2\n",
        "n1.left = n3\n",
        "n1.right = n4\n",
        "n2.left = n5\n",
        "n2.right = n6\n",
        "n3.left = n7\n",
        "n3.right = n8\n",
        "n5.left = n9\n",
        "n5.right = n10\n",
        "# print('Given Tree Inorder Traversal: ', end = ' ')\n",
        "# inorder(root)\n",
        "# print()\n",
        "\n",
        "#check all the sample inputs given\n",
        "#1\n",
        "x = 6\n",
        "y = 12\n",
        "print(f\"LCA({x},{y}) = {LCA(root,x,y)}\")\n",
        "#2\n",
        "x = 20\n",
        "y = 6\n",
        "print(f\"LCA({x},{y}) = {LCA(root,x,y)}\")\n",
        "#3\n",
        "x = 18\n",
        "y = 22\n",
        "print(f\"LCA({x},{y}) = {LCA(root,x,y)}\")\n",
        "#4\n",
        "x = 20\n",
        "y = 25\n",
        "print(f\"LCA({x},{y}) = {LCA(root,x,y)}\")\n",
        "#5\n",
        "x = 10\n",
        "y = 12\n",
        "print(f\"LCA({x},{y}) = {LCA(root,x,y)}\")\n"
      ]
    },
    {
      "cell_type": "markdown",
      "source": [
        "BONUS TASK 1"
      ],
      "metadata": {
        "id": "T3Pimbw_PLHY"
      }
    },
    {
      "cell_type": "code",
      "execution_count": null,
      "metadata": {
        "id": "m4E9_E8PThk6",
        "colab": {
          "base_uri": "https://localhost:8080/"
        },
        "outputId": "35cd3107-e9a3-47e6-d4f9-dd9d38e18e94"
      },
      "outputs": [
        {
          "output_type": "stream",
          "name": "stdout",
          "text": [
            "Given Tree Inorder Traversal:  4 10 6 26 3 3 \n",
            "True\n",
            "Given Tree Inorder Traversal:  5 15 -5 30 10 7 \n",
            "False\n"
          ]
        }
      ],
      "source": [
        "def SumTree(root,sum = 0):\n",
        "  value1 = helperFunctionLeft(root.left)\n",
        "  value2 = helperFunctionRight(root.right)\n",
        "  # print(value1)\n",
        "  # print(value2)\n",
        "  if value1 + value2 == root.elem:\n",
        "    return True\n",
        "  return False\n",
        "\n",
        "def helperFunctionLeft(root):\n",
        "  if root == None:\n",
        "    return 0\n",
        "  return root.elem + helperFunctionLeft(root.left) + helperFunctionRight(root.right)\n",
        "\n",
        "def helperFunctionRight(root):\n",
        "  if root == None:\n",
        "    return 0\n",
        "  return root.elem + helperFunctionRight(root.right) + helperFunctionLeft(root.left)\n",
        "\n",
        "#WRITE THE FUNCTION and DRIVER CODE BY YOURSELF\n",
        "root = BTNode(26)\n",
        "n1 = BTNode(10)\n",
        "n2 = BTNode(3)\n",
        "n3 = BTNode(4)\n",
        "n4 = BTNode(6)\n",
        "n5 = BTNode(3)\n",
        "\n",
        "root.left = n1\n",
        "root.right = n2\n",
        "n1.left = n3\n",
        "n1.right = n4\n",
        "n2.right = n5\n",
        "#1\n",
        "print('Given Tree Inorder Traversal: ', end = ' ')\n",
        "inorder(root)\n",
        "print()\n",
        "print(SumTree(root))\n",
        "#2\n",
        "root1 = tree_construction([None, 30,15,10,5,-5,None,7])\n",
        "print('Given Tree Inorder Traversal: ', end = ' ')\n",
        "inorder(root1)\n",
        "print()\n",
        "print(SumTree(root1))"
      ]
    },
    {
      "cell_type": "markdown",
      "metadata": {
        "id": "SBD-0xoZP_ni"
      },
      "source": [
        "Bonus Task 2"
      ]
    },
    {
      "cell_type": "code",
      "source": [
        "#WRITE THE FUNCTION BY YOURSELF\n",
        "def sumBST(root,i=0):\n",
        "  value1 = 0\n",
        "  value2 = 0\n",
        "  if i%2 != 0:\n",
        "   value1 = helperOddSum(root)\n",
        "  else:\n",
        "    value2 = helperEvenSum(root)\n",
        "  return value1 + value2\n",
        "\n",
        "def helperOddSum(root):\n",
        "  if root == None:\n",
        "    return 0\n",
        "  return root.elem + helperOddSum(root.left) + helperOddSum(root.right)\n",
        "def helperEvenSum(root):\n",
        "  if root == None:\n",
        "    return 0\n",
        "  return -root.elem - helperEvenSum(root.left) - helperEvenSum(root.right)\n",
        "\n",
        "#DRIVER CODE\n",
        "root = BTNode(1)\n",
        "n2 = BTNode(2)\n",
        "n3 = BTNode(3)\n",
        "n4 = BTNode(4)\n",
        "n5 = BTNode(5)\n",
        "n6 = BTNode(6)\n",
        "n7 = BTNode(7)\n",
        "n8 = BTNode(8)\n",
        "root.left = n2\n",
        "root.right = n3\n",
        "\n",
        "n2.left = n4\n",
        "n3.left = n5\n",
        "n3.right = n6\n",
        "\n",
        "n5.left = n7\n",
        "n5.right = n8\n",
        "print('Given Tree Inorder Traversal: ', end = ' ')\n",
        "inorder(root)\n",
        "print()\n",
        "print(sumBST(root))"
      ],
      "metadata": {
        "id": "U_LYhaRIxZCb",
        "colab": {
          "base_uri": "https://localhost:8080/"
        },
        "outputId": "6dbab551-641d-4a20-c56a-a37c89648b22"
      },
      "execution_count": null,
      "outputs": [
        {
          "output_type": "stream",
          "name": "stdout",
          "text": [
            "Given Tree Inorder Traversal:  4 2 1 7 5 8 3 6 \n",
            "4\n"
          ]
        }
      ]
    }
  ],
  "metadata": {
    "colab": {
      "provenance": []
    },
    "kernelspec": {
      "display_name": "Python 3",
      "name": "python3"
    },
    "language_info": {
      "name": "python"
    }
  },
  "nbformat": 4,
  "nbformat_minor": 0
}